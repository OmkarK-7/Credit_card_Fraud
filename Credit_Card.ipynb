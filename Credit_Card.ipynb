{
  "nbformat": 4,
  "nbformat_minor": 0,
  "metadata": {
    "colab": {
      "name": "Credit_Card.ipynb",
      "provenance": [],
      "collapsed_sections": [],
      "mount_file_id": "11djbcL_wmzCjS9VTlyQdFHyZIf5CuWAr",
      "authorship_tag": "ABX9TyPpHKKRX7+rIZ0vPsmgUnb1",
      "include_colab_link": true
    },
    "kernelspec": {
      "name": "python3",
      "display_name": "Python 3"
    },
    "language_info": {
      "name": "python"
    }
  },
  "cells": [
    {
      "cell_type": "markdown",
      "metadata": {
        "id": "view-in-github",
        "colab_type": "text"
      },
      "source": [
        "<a href=\"https://colab.research.google.com/github/AtharvaGhodki/SoC_Credit-Card-Fraud-Detection_210110029/blob/master/Credit_Card.ipynb\" target=\"_parent\"><img src=\"https://colab.research.google.com/assets/colab-badge.svg\" alt=\"Open In Colab\"/></a>"
      ]
    },
    {
      "cell_type": "markdown",
      "source": [
        "# **CREDIT CARD FRAUD DETECTION MODEL-**\n",
        "\n",
        "---\n"
      ],
      "metadata": {
        "id": "dLhf9FMRPy2T"
      }
    },
    {
      "cell_type": "markdown",
      "source": [
        "### **Exracting Data from give csv file-**"
      ],
      "metadata": {
        "id": "QCMMTCD9QaGy"
      }
    },
    {
      "cell_type": "code",
      "execution_count": null,
      "metadata": {
        "colab": {
          "base_uri": "https://localhost:8080/",
          "height": 299
        },
        "id": "JtWMvhQSuiOW",
        "outputId": "94cf3ad2-bfc0-471d-eba4-95ca3b836ed5"
      },
      "outputs": [
        {
          "output_type": "execute_result",
          "data": {
            "text/plain": [
              "   Time        V1        V2        V3        V4        V5        V6        V7  \\\n",
              "0     0 -1.359807 -0.072781  2.536347  1.378155 -0.338321  0.462388  0.239599   \n",
              "1     0  1.191857  0.266151  0.166480  0.448154  0.060018 -0.082361 -0.078803   \n",
              "2     1 -1.358354 -1.340163  1.773209  0.379780 -0.503198  1.800499  0.791461   \n",
              "3     1 -0.966272 -0.185226  1.792993 -0.863291 -0.010309  1.247203  0.237609   \n",
              "4     2 -1.158233  0.877737  1.548718  0.403034 -0.407193  0.095921  0.592941   \n",
              "\n",
              "         V8        V9  ...       V21       V22       V23       V24       V25  \\\n",
              "0  0.098698  0.363787  ... -0.018307  0.277838 -0.110474  0.066928  0.128539   \n",
              "1  0.085102 -0.255425  ... -0.225775 -0.638672  0.101288 -0.339846  0.167170   \n",
              "2  0.247676 -1.514654  ...  0.247998  0.771679  0.909412 -0.689281 -0.327642   \n",
              "3  0.377436 -1.387024  ... -0.108300  0.005274 -0.190321 -1.175575  0.647376   \n",
              "4 -0.270533  0.817739  ... -0.009431  0.798278 -0.137458  0.141267 -0.206010   \n",
              "\n",
              "        V26       V27       V28  Amount  Class  \n",
              "0 -0.189115  0.133558 -0.021053  149.62    0.0  \n",
              "1  0.125895 -0.008983  0.014724    2.69    0.0  \n",
              "2 -0.139097 -0.055353 -0.059752  378.66    0.0  \n",
              "3 -0.221929  0.062723  0.061458  123.50    0.0  \n",
              "4  0.502292  0.219422  0.215153   69.99    0.0  \n",
              "\n",
              "[5 rows x 31 columns]"
            ],
            "text/html": [
              "\n",
              "  <div id=\"df-ac5ed223-5bdd-4e04-9632-e715894c99c7\">\n",
              "    <div class=\"colab-df-container\">\n",
              "      <div>\n",
              "<style scoped>\n",
              "    .dataframe tbody tr th:only-of-type {\n",
              "        vertical-align: middle;\n",
              "    }\n",
              "\n",
              "    .dataframe tbody tr th {\n",
              "        vertical-align: top;\n",
              "    }\n",
              "\n",
              "    .dataframe thead th {\n",
              "        text-align: right;\n",
              "    }\n",
              "</style>\n",
              "<table border=\"1\" class=\"dataframe\">\n",
              "  <thead>\n",
              "    <tr style=\"text-align: right;\">\n",
              "      <th></th>\n",
              "      <th>Time</th>\n",
              "      <th>V1</th>\n",
              "      <th>V2</th>\n",
              "      <th>V3</th>\n",
              "      <th>V4</th>\n",
              "      <th>V5</th>\n",
              "      <th>V6</th>\n",
              "      <th>V7</th>\n",
              "      <th>V8</th>\n",
              "      <th>V9</th>\n",
              "      <th>...</th>\n",
              "      <th>V21</th>\n",
              "      <th>V22</th>\n",
              "      <th>V23</th>\n",
              "      <th>V24</th>\n",
              "      <th>V25</th>\n",
              "      <th>V26</th>\n",
              "      <th>V27</th>\n",
              "      <th>V28</th>\n",
              "      <th>Amount</th>\n",
              "      <th>Class</th>\n",
              "    </tr>\n",
              "  </thead>\n",
              "  <tbody>\n",
              "    <tr>\n",
              "      <th>0</th>\n",
              "      <td>0</td>\n",
              "      <td>-1.359807</td>\n",
              "      <td>-0.072781</td>\n",
              "      <td>2.536347</td>\n",
              "      <td>1.378155</td>\n",
              "      <td>-0.338321</td>\n",
              "      <td>0.462388</td>\n",
              "      <td>0.239599</td>\n",
              "      <td>0.098698</td>\n",
              "      <td>0.363787</td>\n",
              "      <td>...</td>\n",
              "      <td>-0.018307</td>\n",
              "      <td>0.277838</td>\n",
              "      <td>-0.110474</td>\n",
              "      <td>0.066928</td>\n",
              "      <td>0.128539</td>\n",
              "      <td>-0.189115</td>\n",
              "      <td>0.133558</td>\n",
              "      <td>-0.021053</td>\n",
              "      <td>149.62</td>\n",
              "      <td>0.0</td>\n",
              "    </tr>\n",
              "    <tr>\n",
              "      <th>1</th>\n",
              "      <td>0</td>\n",
              "      <td>1.191857</td>\n",
              "      <td>0.266151</td>\n",
              "      <td>0.166480</td>\n",
              "      <td>0.448154</td>\n",
              "      <td>0.060018</td>\n",
              "      <td>-0.082361</td>\n",
              "      <td>-0.078803</td>\n",
              "      <td>0.085102</td>\n",
              "      <td>-0.255425</td>\n",
              "      <td>...</td>\n",
              "      <td>-0.225775</td>\n",
              "      <td>-0.638672</td>\n",
              "      <td>0.101288</td>\n",
              "      <td>-0.339846</td>\n",
              "      <td>0.167170</td>\n",
              "      <td>0.125895</td>\n",
              "      <td>-0.008983</td>\n",
              "      <td>0.014724</td>\n",
              "      <td>2.69</td>\n",
              "      <td>0.0</td>\n",
              "    </tr>\n",
              "    <tr>\n",
              "      <th>2</th>\n",
              "      <td>1</td>\n",
              "      <td>-1.358354</td>\n",
              "      <td>-1.340163</td>\n",
              "      <td>1.773209</td>\n",
              "      <td>0.379780</td>\n",
              "      <td>-0.503198</td>\n",
              "      <td>1.800499</td>\n",
              "      <td>0.791461</td>\n",
              "      <td>0.247676</td>\n",
              "      <td>-1.514654</td>\n",
              "      <td>...</td>\n",
              "      <td>0.247998</td>\n",
              "      <td>0.771679</td>\n",
              "      <td>0.909412</td>\n",
              "      <td>-0.689281</td>\n",
              "      <td>-0.327642</td>\n",
              "      <td>-0.139097</td>\n",
              "      <td>-0.055353</td>\n",
              "      <td>-0.059752</td>\n",
              "      <td>378.66</td>\n",
              "      <td>0.0</td>\n",
              "    </tr>\n",
              "    <tr>\n",
              "      <th>3</th>\n",
              "      <td>1</td>\n",
              "      <td>-0.966272</td>\n",
              "      <td>-0.185226</td>\n",
              "      <td>1.792993</td>\n",
              "      <td>-0.863291</td>\n",
              "      <td>-0.010309</td>\n",
              "      <td>1.247203</td>\n",
              "      <td>0.237609</td>\n",
              "      <td>0.377436</td>\n",
              "      <td>-1.387024</td>\n",
              "      <td>...</td>\n",
              "      <td>-0.108300</td>\n",
              "      <td>0.005274</td>\n",
              "      <td>-0.190321</td>\n",
              "      <td>-1.175575</td>\n",
              "      <td>0.647376</td>\n",
              "      <td>-0.221929</td>\n",
              "      <td>0.062723</td>\n",
              "      <td>0.061458</td>\n",
              "      <td>123.50</td>\n",
              "      <td>0.0</td>\n",
              "    </tr>\n",
              "    <tr>\n",
              "      <th>4</th>\n",
              "      <td>2</td>\n",
              "      <td>-1.158233</td>\n",
              "      <td>0.877737</td>\n",
              "      <td>1.548718</td>\n",
              "      <td>0.403034</td>\n",
              "      <td>-0.407193</td>\n",
              "      <td>0.095921</td>\n",
              "      <td>0.592941</td>\n",
              "      <td>-0.270533</td>\n",
              "      <td>0.817739</td>\n",
              "      <td>...</td>\n",
              "      <td>-0.009431</td>\n",
              "      <td>0.798278</td>\n",
              "      <td>-0.137458</td>\n",
              "      <td>0.141267</td>\n",
              "      <td>-0.206010</td>\n",
              "      <td>0.502292</td>\n",
              "      <td>0.219422</td>\n",
              "      <td>0.215153</td>\n",
              "      <td>69.99</td>\n",
              "      <td>0.0</td>\n",
              "    </tr>\n",
              "  </tbody>\n",
              "</table>\n",
              "<p>5 rows × 31 columns</p>\n",
              "</div>\n",
              "      <button class=\"colab-df-convert\" onclick=\"convertToInteractive('df-ac5ed223-5bdd-4e04-9632-e715894c99c7')\"\n",
              "              title=\"Convert this dataframe to an interactive table.\"\n",
              "              style=\"display:none;\">\n",
              "        \n",
              "  <svg xmlns=\"http://www.w3.org/2000/svg\" height=\"24px\"viewBox=\"0 0 24 24\"\n",
              "       width=\"24px\">\n",
              "    <path d=\"M0 0h24v24H0V0z\" fill=\"none\"/>\n",
              "    <path d=\"M18.56 5.44l.94 2.06.94-2.06 2.06-.94-2.06-.94-.94-2.06-.94 2.06-2.06.94zm-11 1L8.5 8.5l.94-2.06 2.06-.94-2.06-.94L8.5 2.5l-.94 2.06-2.06.94zm10 10l.94 2.06.94-2.06 2.06-.94-2.06-.94-.94-2.06-.94 2.06-2.06.94z\"/><path d=\"M17.41 7.96l-1.37-1.37c-.4-.4-.92-.59-1.43-.59-.52 0-1.04.2-1.43.59L10.3 9.45l-7.72 7.72c-.78.78-.78 2.05 0 2.83L4 21.41c.39.39.9.59 1.41.59.51 0 1.02-.2 1.41-.59l7.78-7.78 2.81-2.81c.8-.78.8-2.07 0-2.86zM5.41 20L4 18.59l7.72-7.72 1.47 1.35L5.41 20z\"/>\n",
              "  </svg>\n",
              "      </button>\n",
              "      \n",
              "  <style>\n",
              "    .colab-df-container {\n",
              "      display:flex;\n",
              "      flex-wrap:wrap;\n",
              "      gap: 12px;\n",
              "    }\n",
              "\n",
              "    .colab-df-convert {\n",
              "      background-color: #E8F0FE;\n",
              "      border: none;\n",
              "      border-radius: 50%;\n",
              "      cursor: pointer;\n",
              "      display: none;\n",
              "      fill: #1967D2;\n",
              "      height: 32px;\n",
              "      padding: 0 0 0 0;\n",
              "      width: 32px;\n",
              "    }\n",
              "\n",
              "    .colab-df-convert:hover {\n",
              "      background-color: #E2EBFA;\n",
              "      box-shadow: 0px 1px 2px rgba(60, 64, 67, 0.3), 0px 1px 3px 1px rgba(60, 64, 67, 0.15);\n",
              "      fill: #174EA6;\n",
              "    }\n",
              "\n",
              "    [theme=dark] .colab-df-convert {\n",
              "      background-color: #3B4455;\n",
              "      fill: #D2E3FC;\n",
              "    }\n",
              "\n",
              "    [theme=dark] .colab-df-convert:hover {\n",
              "      background-color: #434B5C;\n",
              "      box-shadow: 0px 1px 3px 1px rgba(0, 0, 0, 0.15);\n",
              "      filter: drop-shadow(0px 1px 2px rgba(0, 0, 0, 0.3));\n",
              "      fill: #FFFFFF;\n",
              "    }\n",
              "  </style>\n",
              "\n",
              "      <script>\n",
              "        const buttonEl =\n",
              "          document.querySelector('#df-ac5ed223-5bdd-4e04-9632-e715894c99c7 button.colab-df-convert');\n",
              "        buttonEl.style.display =\n",
              "          google.colab.kernel.accessAllowed ? 'block' : 'none';\n",
              "\n",
              "        async function convertToInteractive(key) {\n",
              "          const element = document.querySelector('#df-ac5ed223-5bdd-4e04-9632-e715894c99c7');\n",
              "          const dataTable =\n",
              "            await google.colab.kernel.invokeFunction('convertToInteractive',\n",
              "                                                     [key], {});\n",
              "          if (!dataTable) return;\n",
              "\n",
              "          const docLinkHtml = 'Like what you see? Visit the ' +\n",
              "            '<a target=\"_blank\" href=https://colab.research.google.com/notebooks/data_table.ipynb>data table notebook</a>'\n",
              "            + ' to learn more about interactive tables.';\n",
              "          element.innerHTML = '';\n",
              "          dataTable['output_type'] = 'display_data';\n",
              "          await google.colab.output.renderOutput(dataTable, element);\n",
              "          const docLink = document.createElement('div');\n",
              "          docLink.innerHTML = docLinkHtml;\n",
              "          element.appendChild(docLink);\n",
              "        }\n",
              "      </script>\n",
              "    </div>\n",
              "  </div>\n",
              "  "
            ]
          },
          "metadata": {},
          "execution_count": 3
        }
      ],
      "source": [
        "import pandas as pd\n",
        "from matplotlib import pyplot as plt\n",
        "import seaborn as sns\n",
        "%matplotlib inline\n",
        "df=pd.read_csv(\"creditcard.csv\")\n",
        "df.head()"
      ]
    },
    {
      "cell_type": "markdown",
      "source": [
        "### **Getting Information from the data in the file -**"
      ],
      "metadata": {
        "id": "iL0CfYFSQgzm"
      }
    },
    {
      "cell_type": "code",
      "source": [
        "df.info()"
      ],
      "metadata": {
        "colab": {
          "base_uri": "https://localhost:8080/"
        },
        "id": "S23vAv5twLhr",
        "outputId": "25c575da-4c88-40cd-a7ab-634ef9469129"
      },
      "execution_count": null,
      "outputs": [
        {
          "output_type": "stream",
          "name": "stdout",
          "text": [
            "<class 'pandas.core.frame.DataFrame'>\n",
            "RangeIndex: 7973 entries, 0 to 7972\n",
            "Data columns (total 31 columns):\n",
            " #   Column  Non-Null Count  Dtype  \n",
            "---  ------  --------------  -----  \n",
            " 0   Time    7973 non-null   int64  \n",
            " 1   V1      7973 non-null   float64\n",
            " 2   V2      7973 non-null   float64\n",
            " 3   V3      7973 non-null   float64\n",
            " 4   V4      7973 non-null   float64\n",
            " 5   V5      7973 non-null   float64\n",
            " 6   V6      7973 non-null   float64\n",
            " 7   V7      7973 non-null   float64\n",
            " 8   V8      7973 non-null   float64\n",
            " 9   V9      7973 non-null   float64\n",
            " 10  V10     7973 non-null   float64\n",
            " 11  V11     7973 non-null   float64\n",
            " 12  V12     7973 non-null   float64\n",
            " 13  V13     7973 non-null   float64\n",
            " 14  V14     7973 non-null   float64\n",
            " 15  V15     7972 non-null   float64\n",
            " 16  V16     7972 non-null   float64\n",
            " 17  V17     7972 non-null   float64\n",
            " 18  V18     7972 non-null   float64\n",
            " 19  V19     7972 non-null   float64\n",
            " 20  V20     7972 non-null   float64\n",
            " 21  V21     7972 non-null   float64\n",
            " 22  V22     7972 non-null   float64\n",
            " 23  V23     7972 non-null   float64\n",
            " 24  V24     7972 non-null   float64\n",
            " 25  V25     7972 non-null   float64\n",
            " 26  V26     7972 non-null   float64\n",
            " 27  V27     7972 non-null   float64\n",
            " 28  V28     7972 non-null   float64\n",
            " 29  Amount  7972 non-null   float64\n",
            " 30  Class   7972 non-null   float64\n",
            "dtypes: float64(30), int64(1)\n",
            "memory usage: 1.9 MB\n"
          ]
        }
      ]
    },
    {
      "cell_type": "markdown",
      "source": [
        "### **Barplot- Number of the count for fraudulent vs non-fraudulent transcations**"
      ],
      "metadata": {
        "id": "RzfZv5UGRpno"
      }
    },
    {
      "cell_type": "code",
      "source": [
        "import pandas as pd\n",
        "from matplotlib import pyplot as plt\n",
        "import seaborn as sns\n",
        "%matplotlib inline\n",
        "df=pd.read_csv(\"creditcard.csv\")\n",
        "sns.countplot(x=\"Class\",data=df)"
      ],
      "metadata": {
        "colab": {
          "base_uri": "https://localhost:8080/",
          "height": 296
        },
        "id": "3PC4s0bR2xsy",
        "outputId": "c198907d-bec1-4333-d84e-ed43ac9b6da4"
      },
      "execution_count": null,
      "outputs": [
        {
          "output_type": "execute_result",
          "data": {
            "text/plain": [
              "<matplotlib.axes._subplots.AxesSubplot at 0x7f6900383f10>"
            ]
          },
          "metadata": {},
          "execution_count": 13
        },
        {
          "output_type": "display_data",
          "data": {
            "text/plain": [
              "<Figure size 432x288 with 1 Axes>"
            ],
            "image/png": "[encoded data removed]"
          },
          "metadata": {
            "needs_background": "light"
          }
        }
      ]
    },
    {
      "cell_type": "markdown",
      "source": [
        "### **ScatterPlot-  Distribution of Classes with Time**"
      ],
      "metadata": {
        "id": "AHNyHfWFSEMM"
      }
    },
    {
      "cell_type": "code",
      "source": [
        "import pandas as pd\n",
        "from matplotlib import pyplot as plt\n",
        "import seaborn as sns\n",
        "%matplotlib inline\n",
        "df=pd.read_csv(\"creditcard.csv\")\n",
        "plt.scatter(df.Time,df.Class,marker='+',color='red')"
      ],
      "metadata": {
        "colab": {
          "base_uri": "https://localhost:8080/",
          "height": 282
        },
        "id": "-Nm8edS4O5RQ",
        "outputId": "6f383a4a-f76a-4018-ef7e-caa3ba9d61e2"
      },
      "execution_count": null,
      "outputs": [
        {
          "output_type": "execute_result",
          "data": {
            "text/plain": [
              "<matplotlib.collections.PathCollection at 0x7f690146c550>"
            ]
          },
          "metadata": {},
          "execution_count": 12
        },
        {
          "output_type": "display_data",
          "data": {
            "text/plain": [
              "<Figure size 432x288 with 1 Axes>"
            ],
            "image/png": "[encoded data removed]"
          },
          "metadata": {
            "needs_background": "light"
          }
        }
      ]
    },
    {
      "cell_type": "markdown",
      "source": [
        "### **ScatterPlot- Distribution of Classes with Amount**"
      ],
      "metadata": {
        "id": "0HW95wxOSTJA"
      }
    },
    {
      "cell_type": "code",
      "source": [
        "import pandas as pd\n",
        "from matplotlib import pyplot as plt\n",
        "import seaborn as sns\n",
        "%matplotlib inline\n",
        "df=pd.read_csv(\"creditcard.csv\")\n",
        "plt.scatter(df.Amount,df.Class,marker='.',color='blue')"
      ],
      "metadata": {
        "colab": {
          "base_uri": "https://localhost:8080/",
          "height": 282
        },
        "id": "je5aUxOGgEku",
        "outputId": "bada4234-2afd-419b-bb76-ba51dc4036ac"
      },
      "execution_count": null,
      "outputs": [
        {
          "output_type": "execute_result",
          "data": {
            "text/plain": [
              "<matplotlib.collections.PathCollection at 0x7f68ffc455d0>"
            ]
          },
          "metadata": {},
          "execution_count": 16
        },
        {
          "output_type": "display_data",
          "data": {
            "text/plain": [
              "<Figure size 432x288 with 1 Axes>"
            ],
            "image/png": "[encoded data removed]"
          },
          "metadata": {
            "needs_background": "light"
          }
        }
      ]
    },
    {
      "cell_type": "markdown",
      "source": [
        "### **Histogram- Distribution plot for Amount**"
      ],
      "metadata": {
        "id": "y6uMt_E0SpTN"
      }
    },
    {
      "cell_type": "code",
      "source": [
        "import pandas as pd\n",
        "from matplotlib import pyplot as plt\n",
        "import seaborn as sns\n",
        "%matplotlib inline\n",
        "df=pd.read_csv(\"creditcard.csv\")\n",
        "sns.displot(data=df,x=\"Amount\",kind=\"hist\")"
      ],
      "metadata": {
        "colab": {
          "base_uri": "https://localhost:8080/",
          "height": 386
        },
        "id": "B7t11mNYgpvh",
        "outputId": "c365068d-3056-4023-b3e5-e34adf5c0782"
      },
      "execution_count": null,
      "outputs": [
        {
          "output_type": "execute_result",
          "data": {
            "text/plain": [
              "<seaborn.axisgrid.FacetGrid at 0x7f68ff5b3610>"
            ]
          },
          "metadata": {},
          "execution_count": 20
        },
        {
          "output_type": "display_data",
          "data": {
            "text/plain": [
              "<Figure size 360x360 with 1 Axes>"
            ],
            "image/png": "[encoded data removed]"
          },
          "metadata": {
            "needs_background": "light"
          }
        }
      ]
    },
    {
      "cell_type": "markdown",
      "source": [
        "### **Histogram- Distribution plot for Amount for Classes value equal to 1**"
      ],
      "metadata": {
        "id": "GCuXHEiYS2uv"
      }
    },
    {
      "cell_type": "code",
      "source": [
        "import pandas as pd\n",
        "from matplotlib import pyplot as plt\n",
        "import seaborn as sns\n",
        "%matplotlib inline\n",
        "df=pd.read_csv(\"creditcard.csv\")\n",
        "df1=df.loc[df['Class'] == 1]\n",
        "df1.head()\n",
        "sns.displot(data=df1,x=\"Amount\",kind=\"hist\")"
      ],
      "metadata": {
        "colab": {
          "base_uri": "https://localhost:8080/",
          "height": 386
        },
        "id": "-VpQSg2vlJ9v",
        "outputId": "aa4d43dd-e201-46f9-a3e1-fb1d07cc9de2"
      },
      "execution_count": null,
      "outputs": [
        {
          "output_type": "execute_result",
          "data": {
            "text/plain": [
              "<seaborn.axisgrid.FacetGrid at 0x7f68ff556ad0>"
            ]
          },
          "metadata": {},
          "execution_count": 22
        },
        {
          "output_type": "display_data",
          "data": {
            "text/plain": [
              "<Figure size 360x360 with 1 Axes>"
            ],
            "image/png": "[encoded data removed]"
          },
          "metadata": {
            "needs_background": "light"
          }
        }
      ]
    },
    {
      "cell_type": "markdown",
      "source": [
        "### **Histogram- Distribution plot for Amount for Classes value equal to 0**"
      ],
      "metadata": {
        "id": "N-cVRx_BTFq9"
      }
    },
    {
      "cell_type": "code",
      "source": [
        "import pandas as pd\n",
        "from matplotlib import pyplot as plt\n",
        "import seaborn as sns\n",
        "%matplotlib inline\n",
        "df=pd.read_csv(\"creditcard.csv\")\n",
        "df2=df.loc[df['Class'] == 0]\n",
        "df2.head()\n",
        "sns.displot(data=df2,x=\"Amount\",kind=\"hist\")"
      ],
      "metadata": {
        "colab": {
          "base_uri": "https://localhost:8080/",
          "height": 386
        },
        "id": "ByP0kqzDlqo4",
        "outputId": "4bf2d3e2-f99c-44fc-833a-223567718230"
      },
      "execution_count": null,
      "outputs": [
        {
          "output_type": "execute_result",
          "data": {
            "text/plain": [
              "<seaborn.axisgrid.FacetGrid at 0x7f68f3ab7e10>"
            ]
          },
          "metadata": {},
          "execution_count": 24
        },
        {
          "output_type": "display_data",
          "data": {
            "text/plain": [
              "<Figure size 360x360 with 1 Axes>"
            ],
            "image/png": "[encoded data removed]"
          },
          "metadata": {
            "needs_background": "light"
          }
        }
      ]
    },
    {
      "cell_type": "markdown",
      "source": [
        "### **KdePlot- Distribution of v1 to v28 columns**"
      ],
      "metadata": {
        "id": "vKxsGkUTTnXh"
      }
    },
    {
      "cell_type": "code",
      "source": [
        "import pandas as pd\n",
        "from matplotlib import pyplot as plt\n",
        "import seaborn as sns\n",
        "%matplotlib inline\n",
        "df=pd.read_csv(\"creditcard.csv\")\n",
        "df3=df.drop(['Time','Amount','Class'],axis=1)\n",
        "df3.head()\n",
        "sns.kdeplot(data=df3)"
      ],
      "metadata": {
        "colab": {
          "base_uri": "https://localhost:8080/",
          "height": 493
        },
        "id": "5bITM-vwmRbV",
        "outputId": "b3c46bee-692e-4b44-97e3-c71985ee694b"
      },
      "execution_count": null,
      "outputs": [
        {
          "output_type": "execute_result",
          "data": {
            "text/plain": [
              "<matplotlib.axes._subplots.AxesSubplot at 0x7f68eaf91710>"
            ]
          },
          "metadata": {},
          "execution_count": 27
        },
        {
          "output_type": "display_data",
          "data": {
            "text/plain": [
              "<Figure size 432x288 with 1 Axes>"
            ],
            "image/png": "[encoded data removed]"
          },
          "metadata": {
            "needs_background": "light"
          }
        }
      ]
    },
    {
      "cell_type": "markdown",
      "source": [
        "### **Dividing Data Set into X and Y sets to use further in model creation -**"
      ],
      "metadata": {
        "id": "oUbhzDpuPM5q"
      }
    },
    {
      "cell_type": "code",
      "source": [
        "import pandas as pd\n",
        "import numpy as np\n",
        "from matplotlib import pyplot as plt\n",
        "import seaborn as sns\n",
        "from sklearn import preprocessing\n",
        "%matplotlib inline\n",
        "df=pd.read_csv(\"creditcard.csv\")\n",
        "Y = df['Class']\n",
        "X=df.drop('Class',axis=1)\n",
        "X=X.drop('Time',axis=1)\n",
        "float_array = X['Amount'].values.astype(float)\n",
        "min_max_scaler = preprocessing.MinMaxScaler()\n",
        "float_array=float_array.reshape(-1, 1)\n",
        "X['Amount']= min_max_scaler.fit_transform(float_array)\n",
        "X.head()\n"
      ],
      "metadata": {
        "colab": {
          "base_uri": "https://localhost:8080/",
          "height": 299
        },
        "id": "oOASY_cIur8W",
        "outputId": "54e8e1d6-b22f-4970-f8c3-e12166e1e677"
      },
      "execution_count": null,
      "outputs": [
        {
          "output_type": "execute_result",
          "data": {
            "text/plain": [
              "         V1        V2        V3        V4        V5        V6        V7  \\\n",
              "0 -1.359807 -0.072781  2.536347  1.378155 -0.338321  0.462388  0.239599   \n",
              "1  1.191857  0.266151  0.166480  0.448154  0.060018 -0.082361 -0.078803   \n",
              "2 -1.358354 -1.340163  1.773209  0.379780 -0.503198  1.800499  0.791461   \n",
              "3 -0.966272 -0.185226  1.792993 -0.863291 -0.010309  1.247203  0.237609   \n",
              "4 -1.158233  0.877737  1.548718  0.403034 -0.407193  0.095921  0.592941   \n",
              "\n",
              "         V8        V9       V10  ...       V20       V21       V22       V23  \\\n",
              "0  0.098698  0.363787  0.090794  ...  0.251412 -0.018307  0.277838 -0.110474   \n",
              "1  0.085102 -0.255425 -0.166974  ... -0.069083 -0.225775 -0.638672  0.101288   \n",
              "2  0.247676 -1.514654  0.207643  ...  0.524980  0.247998  0.771679  0.909412   \n",
              "3  0.377436 -1.387024 -0.054952  ... -0.208038 -0.108300  0.005274 -0.190321   \n",
              "4 -0.270533  0.817739  0.753074  ...  0.408542 -0.009431  0.798278 -0.137458   \n",
              "\n",
              "        V24       V25       V26       V27       V28    Amount  \n",
              "0  0.066928  0.128539 -0.189115  0.133558 -0.021053  0.011589  \n",
              "1 -0.339846  0.167170  0.125895 -0.008983  0.014724  0.000208  \n",
              "2 -0.689281 -0.327642 -0.139097 -0.055353 -0.059752  0.029329  \n",
              "3 -1.175575  0.647376 -0.221929  0.062723  0.061458  0.009566  \n",
              "4  0.141267 -0.206010  0.502292  0.219422  0.215153  0.005421  \n",
              "\n",
              "[5 rows x 29 columns]"
            ],
            "text/html": [
              "\n",
              "  <div id=\"df-41c1d332-adbd-417c-b61b-71703a64782a\">\n",
              "    <div class=\"colab-df-container\">\n",
              "      <div>\n",
              "<style scoped>\n",
              "    .dataframe tbody tr th:only-of-type {\n",
              "        vertical-align: middle;\n",
              "    }\n",
              "\n",
              "    .dataframe tbody tr th {\n",
              "        vertical-align: top;\n",
              "    }\n",
              "\n",
              "    .dataframe thead th {\n",
              "        text-align: right;\n",
              "    }\n",
              "</style>\n",
              "<table border=\"1\" class=\"dataframe\">\n",
              "  <thead>\n",
              "    <tr style=\"text-align: right;\">\n",
              "      <th></th>\n",
              "      <th>V1</th>\n",
              "      <th>V2</th>\n",
              "      <th>V3</th>\n",
              "      <th>V4</th>\n",
              "      <th>V5</th>\n",
              "      <th>V6</th>\n",
              "      <th>V7</th>\n",
              "      <th>V8</th>\n",
              "      <th>V9</th>\n",
              "      <th>V10</th>\n",
              "      <th>...</th>\n",
              "      <th>V20</th>\n",
              "      <th>V21</th>\n",
              "      <th>V22</th>\n",
              "      <th>V23</th>\n",
              "      <th>V24</th>\n",
              "      <th>V25</th>\n",
              "      <th>V26</th>\n",
              "      <th>V27</th>\n",
              "      <th>V28</th>\n",
              "      <th>Amount</th>\n",
              "    </tr>\n",
              "  </thead>\n",
              "  <tbody>\n",
              "    <tr>\n",
              "      <th>0</th>\n",
              "      <td>-1.359807</td>\n",
              "      <td>-0.072781</td>\n",
              "      <td>2.536347</td>\n",
              "      <td>1.378155</td>\n",
              "      <td>-0.338321</td>\n",
              "      <td>0.462388</td>\n",
              "      <td>0.239599</td>\n",
              "      <td>0.098698</td>\n",
              "      <td>0.363787</td>\n",
              "      <td>0.090794</td>\n",
              "      <td>...</td>\n",
              "      <td>0.251412</td>\n",
              "      <td>-0.018307</td>\n",
              "      <td>0.277838</td>\n",
              "      <td>-0.110474</td>\n",
              "      <td>0.066928</td>\n",
              "      <td>0.128539</td>\n",
              "      <td>-0.189115</td>\n",
              "      <td>0.133558</td>\n",
              "      <td>-0.021053</td>\n",
              "      <td>0.011589</td>\n",
              "    </tr>\n",
              "    <tr>\n",
              "      <th>1</th>\n",
              "      <td>1.191857</td>\n",
              "      <td>0.266151</td>\n",
              "      <td>0.166480</td>\n",
              "      <td>0.448154</td>\n",
              "      <td>0.060018</td>\n",
              "      <td>-0.082361</td>\n",
              "      <td>-0.078803</td>\n",
              "      <td>0.085102</td>\n",
              "      <td>-0.255425</td>\n",
              "      <td>-0.166974</td>\n",
              "      <td>...</td>\n",
              "      <td>-0.069083</td>\n",
              "      <td>-0.225775</td>\n",
              "      <td>-0.638672</td>\n",
              "      <td>0.101288</td>\n",
              "      <td>-0.339846</td>\n",
              "      <td>0.167170</td>\n",
              "      <td>0.125895</td>\n",
              "      <td>-0.008983</td>\n",
              "      <td>0.014724</td>\n",
              "      <td>0.000208</td>\n",
              "    </tr>\n",
              "    <tr>\n",
              "      <th>2</th>\n",
              "      <td>-1.358354</td>\n",
              "      <td>-1.340163</td>\n",
              "      <td>1.773209</td>\n",
              "      <td>0.379780</td>\n",
              "      <td>-0.503198</td>\n",
              "      <td>1.800499</td>\n",
              "      <td>0.791461</td>\n",
              "      <td>0.247676</td>\n",
              "      <td>-1.514654</td>\n",
              "      <td>0.207643</td>\n",
              "      <td>...</td>\n",
              "      <td>0.524980</td>\n",
              "      <td>0.247998</td>\n",
              "      <td>0.771679</td>\n",
              "      <td>0.909412</td>\n",
              "      <td>-0.689281</td>\n",
              "      <td>-0.327642</td>\n",
              "      <td>-0.139097</td>\n",
              "      <td>-0.055353</td>\n",
              "      <td>-0.059752</td>\n",
              "      <td>0.029329</td>\n",
              "    </tr>\n",
              "    <tr>\n",
              "      <th>3</th>\n",
              "      <td>-0.966272</td>\n",
              "      <td>-0.185226</td>\n",
              "      <td>1.792993</td>\n",
              "      <td>-0.863291</td>\n",
              "      <td>-0.010309</td>\n",
              "      <td>1.247203</td>\n",
              "      <td>0.237609</td>\n",
              "      <td>0.377436</td>\n",
              "      <td>-1.387024</td>\n",
              "      <td>-0.054952</td>\n",
              "      <td>...</td>\n",
              "      <td>-0.208038</td>\n",
              "      <td>-0.108300</td>\n",
              "      <td>0.005274</td>\n",
              "      <td>-0.190321</td>\n",
              "      <td>-1.175575</td>\n",
              "      <td>0.647376</td>\n",
              "      <td>-0.221929</td>\n",
              "      <td>0.062723</td>\n",
              "      <td>0.061458</td>\n",
              "      <td>0.009566</td>\n",
              "    </tr>\n",
              "    <tr>\n",
              "      <th>4</th>\n",
              "      <td>-1.158233</td>\n",
              "      <td>0.877737</td>\n",
              "      <td>1.548718</td>\n",
              "      <td>0.403034</td>\n",
              "      <td>-0.407193</td>\n",
              "      <td>0.095921</td>\n",
              "      <td>0.592941</td>\n",
              "      <td>-0.270533</td>\n",
              "      <td>0.817739</td>\n",
              "      <td>0.753074</td>\n",
              "      <td>...</td>\n",
              "      <td>0.408542</td>\n",
              "      <td>-0.009431</td>\n",
              "      <td>0.798278</td>\n",
              "      <td>-0.137458</td>\n",
              "      <td>0.141267</td>\n",
              "      <td>-0.206010</td>\n",
              "      <td>0.502292</td>\n",
              "      <td>0.219422</td>\n",
              "      <td>0.215153</td>\n",
              "      <td>0.005421</td>\n",
              "    </tr>\n",
              "  </tbody>\n",
              "</table>\n",
              "<p>5 rows × 29 columns</p>\n",
              "</div>\n",
              "      <button class=\"colab-df-convert\" onclick=\"convertToInteractive('df-41c1d332-adbd-417c-b61b-71703a64782a')\"\n",
              "              title=\"Convert this dataframe to an interactive table.\"\n",
              "              style=\"display:none;\">\n",
              "        \n",
              "  <svg xmlns=\"http://www.w3.org/2000/svg\" height=\"24px\"viewBox=\"0 0 24 24\"\n",
              "       width=\"24px\">\n",
              "    <path d=\"M0 0h24v24H0V0z\" fill=\"none\"/>\n",
              "    <path d=\"M18.56 5.44l.94 2.06.94-2.06 2.06-.94-2.06-.94-.94-2.06-.94 2.06-2.06.94zm-11 1L8.5 8.5l.94-2.06 2.06-.94-2.06-.94L8.5 2.5l-.94 2.06-2.06.94zm10 10l.94 2.06.94-2.06 2.06-.94-2.06-.94-.94-2.06-.94 2.06-2.06.94z\"/><path d=\"M17.41 7.96l-1.37-1.37c-.4-.4-.92-.59-1.43-.59-.52 0-1.04.2-1.43.59L10.3 9.45l-7.72 7.72c-.78.78-.78 2.05 0 2.83L4 21.41c.39.39.9.59 1.41.59.51 0 1.02-.2 1.41-.59l7.78-7.78 2.81-2.81c.8-.78.8-2.07 0-2.86zM5.41 20L4 18.59l7.72-7.72 1.47 1.35L5.41 20z\"/>\n",
              "  </svg>\n",
              "      </button>\n",
              "      \n",
              "  <style>\n",
              "    .colab-df-container {\n",
              "      display:flex;\n",
              "      flex-wrap:wrap;\n",
              "      gap: 12px;\n",
              "    }\n",
              "\n",
              "    .colab-df-convert {\n",
              "      background-color: #E8F0FE;\n",
              "      border: none;\n",
              "      border-radius: 50%;\n",
              "      cursor: pointer;\n",
              "      display: none;\n",
              "      fill: #1967D2;\n",
              "      height: 32px;\n",
              "      padding: 0 0 0 0;\n",
              "      width: 32px;\n",
              "    }\n",
              "\n",
              "    .colab-df-convert:hover {\n",
              "      background-color: #E2EBFA;\n",
              "      box-shadow: 0px 1px 2px rgba(60, 64, 67, 0.3), 0px 1px 3px 1px rgba(60, 64, 67, 0.15);\n",
              "      fill: #174EA6;\n",
              "    }\n",
              "\n",
              "    [theme=dark] .colab-df-convert {\n",
              "      background-color: #3B4455;\n",
              "      fill: #D2E3FC;\n",
              "    }\n",
              "\n",
              "    [theme=dark] .colab-df-convert:hover {\n",
              "      background-color: #434B5C;\n",
              "      box-shadow: 0px 1px 3px 1px rgba(0, 0, 0, 0.15);\n",
              "      filter: drop-shadow(0px 1px 2px rgba(0, 0, 0, 0.3));\n",
              "      fill: #FFFFFF;\n",
              "    }\n",
              "  </style>\n",
              "\n",
              "      <script>\n",
              "        const buttonEl =\n",
              "          document.querySelector('#df-41c1d332-adbd-417c-b61b-71703a64782a button.colab-df-convert');\n",
              "        buttonEl.style.display =\n",
              "          google.colab.kernel.accessAllowed ? 'block' : 'none';\n",
              "\n",
              "        async function convertToInteractive(key) {\n",
              "          const element = document.querySelector('#df-41c1d332-adbd-417c-b61b-71703a64782a');\n",
              "          const dataTable =\n",
              "            await google.colab.kernel.invokeFunction('convertToInteractive',\n",
              "                                                     [key], {});\n",
              "          if (!dataTable) return;\n",
              "\n",
              "          const docLinkHtml = 'Like what you see? Visit the ' +\n",
              "            '<a target=\"_blank\" href=https://colab.research.google.com/notebooks/data_table.ipynb>data table notebook</a>'\n",
              "            + ' to learn more about interactive tables.';\n",
              "          element.innerHTML = '';\n",
              "          dataTable['output_type'] = 'display_data';\n",
              "          await google.colab.output.renderOutput(dataTable, element);\n",
              "          const docLink = document.createElement('div');\n",
              "          docLink.innerHTML = docLinkHtml;\n",
              "          element.appendChild(docLink);\n",
              "        }\n",
              "      </script>\n",
              "    </div>\n",
              "  </div>\n",
              "  "
            ]
          },
          "metadata": {},
          "execution_count": 7
        }
      ]
    },
    {
      "cell_type": "markdown",
      "source": [
        "### **Finding Skewness Value -**"
      ],
      "metadata": {
        "id": "tz3hS-1rOWuX"
      }
    },
    {
      "cell_type": "code",
      "source": [
        "import pandas as pd\n",
        "import numpy as np\n",
        "from matplotlib import pyplot as plt\n",
        "import seaborn as sns\n",
        "from sklearn import preprocessing\n",
        "%matplotlib inline\n",
        "df=pd.read_csv(\"creditcard.csv\")\n",
        "Y = df['Class']\n",
        "X=df.drop('Class',axis=1)\n",
        "X=X.drop('Time',axis=1)\n",
        "float_array = X['Amount'].values.astype(float)\n",
        "min_max_scaler = preprocessing.MinMaxScaler()\n",
        "float_array=float_array.reshape(-1, 1)\n",
        "X['Amount']= min_max_scaler.fit_transform(float_array)\n",
        "X.skew()"
      ],
      "metadata": {
        "colab": {
          "base_uri": "https://localhost:8080/"
        },
        "id": "rygvgLzJ9aWb",
        "outputId": "356a75a8-ee2f-45a7-9a1e-b79402653335"
      },
      "execution_count": null,
      "outputs": [
        {
          "output_type": "execute_result",
          "data": {
            "text/plain": [
              "V1        -4.427318\n",
              "V2        -4.635690\n",
              "V3        -6.560255\n",
              "V4         0.502269\n",
              "V5        -1.628335\n",
              "V6         1.012271\n",
              "V7        -2.248810\n",
              "V8        -5.457406\n",
              "V9         0.487651\n",
              "V10       -0.339703\n",
              "V11        0.730984\n",
              "V12       -2.252374\n",
              "V13        0.172389\n",
              "V14       -3.432532\n",
              "V15       -0.583155\n",
              "V16       -2.326693\n",
              "V17       -6.840024\n",
              "V18       -0.778000\n",
              "V19       -0.080431\n",
              "V20        2.246055\n",
              "V21        5.957075\n",
              "V22       -0.593665\n",
              "V23       -4.119025\n",
              "V24       -0.598516\n",
              "V25       -0.568859\n",
              "V26        0.675219\n",
              "V27       -1.854755\n",
              "V28       17.357996\n",
              "Amount    11.988495\n",
              "dtype: float64"
            ]
          },
          "metadata": {},
          "execution_count": 8
        }
      ]
    },
    {
      "cell_type": "markdown",
      "source": [
        "### **Use skew constrain of (-1,1) and taking cuberoot of those column who not satisfy it -**"
      ],
      "metadata": {
        "id": "RqWwwWbJOnO8"
      }
    },
    {
      "cell_type": "code",
      "source": [
        "import pandas as pd\n",
        "import numpy as np\n",
        "from matplotlib import pyplot as plt\n",
        "import seaborn as sns\n",
        "from sklearn import preprocessing\n",
        "%matplotlib inline\n",
        "df=pd.read_csv(\"creditcard.csv\")\n",
        "Y = df['Class']\n",
        "X=df.drop('Class',axis=1)\n",
        "X=X.drop('Time',axis=1)\n",
        "float_array = X['Amount'].values.astype(float)\n",
        "min_max_scaler = preprocessing.MinMaxScaler()\n",
        "float_array=float_array.reshape(-1, 1)\n",
        "X['Amount']= min_max_scaler.fit_transform(float_array)\n",
        "for i in range(29):\n",
        "   if ((X.iloc[:,i].skew()>1)or(X.iloc[:,i].skew()<-1)):\n",
        "         X.iloc[:,i]=np.cbrt(X.iloc[:,i])\n",
        "X.skew()\n"
      ],
      "metadata": {
        "colab": {
          "base_uri": "https://localhost:8080/"
        },
        "id": "jtxO9vaVBbbm",
        "outputId": "cb83b178-a2b3-4827-aea0-fef75da72595"
      },
      "execution_count": null,
      "outputs": [
        {
          "output_type": "execute_result",
          "data": {
            "text/plain": [
              "V1       -0.042229\n",
              "V2       -0.187326\n",
              "V3       -1.545390\n",
              "V4        0.486049\n",
              "V5        0.506608\n",
              "V6        0.385459\n",
              "V7        0.127361\n",
              "V8       -0.356270\n",
              "V9        0.488524\n",
              "V10      -0.298300\n",
              "V11       0.714850\n",
              "V12      -0.070706\n",
              "V13       0.169550\n",
              "V14      -0.342645\n",
              "V15      -0.584259\n",
              "V16      -0.146372\n",
              "V17      -0.137472\n",
              "V18      -0.750092\n",
              "V19      -0.071857\n",
              "V20       0.230906\n",
              "V21       0.503499\n",
              "V22      -0.572079\n",
              "V23       0.446760\n",
              "V24      -0.599827\n",
              "V25      -0.589254\n",
              "V26       0.684090\n",
              "V27      -0.170338\n",
              "V28      -0.911135\n",
              "Amount    1.467824\n",
              "dtype: float64"
            ]
          },
          "metadata": {},
          "execution_count": 9
        }
      ]
    },
    {
      "cell_type": "markdown",
      "source": [
        "###**Spliting into Train and Test Sets -**"
      ],
      "metadata": {
        "id": "R-RAc0T2N4ju"
      }
    },
    {
      "cell_type": "code",
      "source": [
        "from sklearn.model_selection import train_test_split\n",
        "X_train,X_test,y_train,y_test=train_test_split(X,Y,test_size=0.2)\n",
        "X_train\n"
      ],
      "metadata": {
        "id": "kCJ5q9ZuOSzN",
        "colab": {
          "base_uri": "https://localhost:8080/",
          "height": 488
        },
        "outputId": "ebe8db8a-34bb-479b-a8af-07db02b67fef"
      },
      "execution_count": null,
      "outputs": [
        {
          "output_type": "execute_result",
          "data": {
            "text/plain": [
              "             V1        V2        V3        V4        V5        V6        V7  \\\n",
              "49229  1.015640  0.486436  1.173488  2.936669 -0.913966  0.879631 -0.868602   \n",
              "39971 -1.004620  0.820165  1.122888  1.388915 -0.405820  1.142265 -0.822546   \n",
              "30926 -0.840948 -0.414030  1.146440 -0.701402 -0.702728 -0.443736 -0.709663   \n",
              "25410 -0.915436  0.927869  1.115031 -0.484405  0.905152 -0.232534  1.038116   \n",
              "5713  -0.817165 -1.426352 -0.955067  1.149674 -1.043796 -0.657811  1.065493   \n",
              "...         ...       ...       ...       ...       ...       ...       ...   \n",
              "19259 -1.150338  0.828018  0.921358  1.232116  0.377041  0.736010  0.613726   \n",
              "45442 -1.425590  1.414477  0.495156 -0.766097 -0.571850 -0.867868  0.856462   \n",
              "46243 -0.854175  0.784449  1.028935  0.809307  0.867901 -0.850419  0.801727   \n",
              "34178 -0.837389  1.062717  1.231655  1.000360  0.659354 -0.204508  1.093843   \n",
              "38244  1.101533 -1.110439  0.977172 -1.383369 -1.234830 -0.412618 -1.156276   \n",
              "\n",
              "             V8        V9       V10  ...       V20       V21       V22  \\\n",
              "49229  0.671061  0.381026  0.329488  ... -0.592917  0.419352  0.625087   \n",
              "39971  1.018503  0.827031 -0.616418  ...  0.296493 -0.750266 -0.929032   \n",
              "30926 -0.293450 -1.227953  0.689552  ... -0.705372 -0.615851 -0.160971   \n",
              "25410  0.399785 -0.249138 -1.095616  ... -0.577711 -0.429353 -0.253880   \n",
              "5713  -0.752652  1.531127 -1.013368  ...  1.189277  0.702318 -0.732046   \n",
              "...         ...       ...       ...  ...       ...       ...       ...   \n",
              "19259  0.814523  0.094870  0.541304  ... -0.309633 -0.474917  0.117628   \n",
              "45442  0.130514  1.813980  3.400310  ...  1.151005 -0.851489 -0.920378   \n",
              "46243  0.464410 -0.737168 -0.006019  ...  0.355165  0.508220  0.129160   \n",
              "34178 -0.674783 -0.921442 -0.040095  ...  0.508843 -0.747697 -1.088387   \n",
              "38244  0.582999 -1.657670  1.558259  ... -0.698484  0.522845  0.746792   \n",
              "\n",
              "            V23       V24       V25       V26       V27       V28    Amount  \n",
              "49229 -0.397587  0.465564  0.512843  0.221287  0.408014  0.302205  0.000000  \n",
              "39971 -0.535697 -1.369872  0.095608 -0.277161  0.673807  0.410301  0.115706  \n",
              "30926  0.160915 -0.225261 -0.806623  1.078825 -0.518010  0.598369  0.113445  \n",
              "25410 -0.416863 -0.490368  0.051889 -0.799144  0.469605  0.504944  0.156407  \n",
              "5713  -0.950448  0.132129  0.082109  0.984522 -0.658475  0.524190  0.417268  \n",
              "...         ...       ...       ...       ...       ...       ...       ...  \n",
              "19259 -0.373732 -0.337631 -0.082331 -0.238662  0.564884 -0.421998  0.169569  \n",
              "45442  0.389216 -0.116632  0.365064  0.086173  1.016631  0.858861  0.053527  \n",
              "46243 -0.510101 -0.047288 -0.020648 -0.314638  0.456350  0.501630  0.123517  \n",
              "34178 -0.288840  0.008081 -0.059569 -0.669849 -0.562254 -0.537204  0.169362  \n",
              "38244 -0.313740  0.211616  0.229130 -0.001938  0.391040  0.266433  0.146746  \n",
              "\n",
              "[39688 rows x 29 columns]"
            ],
            "text/html": [
              "\n",
              "  <div id=\"df-b3299372-53d7-4d4b-a98a-a2adcacd403b\">\n",
              "    <div class=\"colab-df-container\">\n",
              "      <div>\n",
              "<style scoped>\n",
              "    .dataframe tbody tr th:only-of-type {\n",
              "        vertical-align: middle;\n",
              "    }\n",
              "\n",
              "    .dataframe tbody tr th {\n",
              "        vertical-align: top;\n",
              "    }\n",
              "\n",
              "    .dataframe thead th {\n",
              "        text-align: right;\n",
              "    }\n",
              "</style>\n",
              "<table border=\"1\" class=\"dataframe\">\n",
              "  <thead>\n",
              "    <tr style=\"text-align: right;\">\n",
              "      <th></th>\n",
              "      <th>V1</th>\n",
              "      <th>V2</th>\n",
              "      <th>V3</th>\n",
              "      <th>V4</th>\n",
              "      <th>V5</th>\n",
              "      <th>V6</th>\n",
              "      <th>V7</th>\n",
              "      <th>V8</th>\n",
              "      <th>V9</th>\n",
              "      <th>V10</th>\n",
              "      <th>...</th>\n",
              "      <th>V20</th>\n",
              "      <th>V21</th>\n",
              "      <th>V22</th>\n",
              "      <th>V23</th>\n",
              "      <th>V24</th>\n",
              "      <th>V25</th>\n",
              "      <th>V26</th>\n",
              "      <th>V27</th>\n",
              "      <th>V28</th>\n",
              "      <th>Amount</th>\n",
              "    </tr>\n",
              "  </thead>\n",
              "  <tbody>\n",
              "    <tr>\n",
              "      <th>49229</th>\n",
              "      <td>1.015640</td>\n",
              "      <td>0.486436</td>\n",
              "      <td>1.173488</td>\n",
              "      <td>2.936669</td>\n",
              "      <td>-0.913966</td>\n",
              "      <td>0.879631</td>\n",
              "      <td>-0.868602</td>\n",
              "      <td>0.671061</td>\n",
              "      <td>0.381026</td>\n",
              "      <td>0.329488</td>\n",
              "      <td>...</td>\n",
              "      <td>-0.592917</td>\n",
              "      <td>0.419352</td>\n",
              "      <td>0.625087</td>\n",
              "      <td>-0.397587</td>\n",
              "      <td>0.465564</td>\n",
              "      <td>0.512843</td>\n",
              "      <td>0.221287</td>\n",
              "      <td>0.408014</td>\n",
              "      <td>0.302205</td>\n",
              "      <td>0.000000</td>\n",
              "    </tr>\n",
              "    <tr>\n",
              "      <th>39971</th>\n",
              "      <td>-1.004620</td>\n",
              "      <td>0.820165</td>\n",
              "      <td>1.122888</td>\n",
              "      <td>1.388915</td>\n",
              "      <td>-0.405820</td>\n",
              "      <td>1.142265</td>\n",
              "      <td>-0.822546</td>\n",
              "      <td>1.018503</td>\n",
              "      <td>0.827031</td>\n",
              "      <td>-0.616418</td>\n",
              "      <td>...</td>\n",
              "      <td>0.296493</td>\n",
              "      <td>-0.750266</td>\n",
              "      <td>-0.929032</td>\n",
              "      <td>-0.535697</td>\n",
              "      <td>-1.369872</td>\n",
              "      <td>0.095608</td>\n",
              "      <td>-0.277161</td>\n",
              "      <td>0.673807</td>\n",
              "      <td>0.410301</td>\n",
              "      <td>0.115706</td>\n",
              "    </tr>\n",
              "    <tr>\n",
              "      <th>30926</th>\n",
              "      <td>-0.840948</td>\n",
              "      <td>-0.414030</td>\n",
              "      <td>1.146440</td>\n",
              "      <td>-0.701402</td>\n",
              "      <td>-0.702728</td>\n",
              "      <td>-0.443736</td>\n",
              "      <td>-0.709663</td>\n",
              "      <td>-0.293450</td>\n",
              "      <td>-1.227953</td>\n",
              "      <td>0.689552</td>\n",
              "      <td>...</td>\n",
              "      <td>-0.705372</td>\n",
              "      <td>-0.615851</td>\n",
              "      <td>-0.160971</td>\n",
              "      <td>0.160915</td>\n",
              "      <td>-0.225261</td>\n",
              "      <td>-0.806623</td>\n",
              "      <td>1.078825</td>\n",
              "      <td>-0.518010</td>\n",
              "      <td>0.598369</td>\n",
              "      <td>0.113445</td>\n",
              "    </tr>\n",
              "    <tr>\n",
              "      <th>25410</th>\n",
              "      <td>-0.915436</td>\n",
              "      <td>0.927869</td>\n",
              "      <td>1.115031</td>\n",
              "      <td>-0.484405</td>\n",
              "      <td>0.905152</td>\n",
              "      <td>-0.232534</td>\n",
              "      <td>1.038116</td>\n",
              "      <td>0.399785</td>\n",
              "      <td>-0.249138</td>\n",
              "      <td>-1.095616</td>\n",
              "      <td>...</td>\n",
              "      <td>-0.577711</td>\n",
              "      <td>-0.429353</td>\n",
              "      <td>-0.253880</td>\n",
              "      <td>-0.416863</td>\n",
              "      <td>-0.490368</td>\n",
              "      <td>0.051889</td>\n",
              "      <td>-0.799144</td>\n",
              "      <td>0.469605</td>\n",
              "      <td>0.504944</td>\n",
              "      <td>0.156407</td>\n",
              "    </tr>\n",
              "    <tr>\n",
              "      <th>5713</th>\n",
              "      <td>-0.817165</td>\n",
              "      <td>-1.426352</td>\n",
              "      <td>-0.955067</td>\n",
              "      <td>1.149674</td>\n",
              "      <td>-1.043796</td>\n",
              "      <td>-0.657811</td>\n",
              "      <td>1.065493</td>\n",
              "      <td>-0.752652</td>\n",
              "      <td>1.531127</td>\n",
              "      <td>-1.013368</td>\n",
              "      <td>...</td>\n",
              "      <td>1.189277</td>\n",
              "      <td>0.702318</td>\n",
              "      <td>-0.732046</td>\n",
              "      <td>-0.950448</td>\n",
              "      <td>0.132129</td>\n",
              "      <td>0.082109</td>\n",
              "      <td>0.984522</td>\n",
              "      <td>-0.658475</td>\n",
              "      <td>0.524190</td>\n",
              "      <td>0.417268</td>\n",
              "    </tr>\n",
              "    <tr>\n",
              "      <th>...</th>\n",
              "      <td>...</td>\n",
              "      <td>...</td>\n",
              "      <td>...</td>\n",
              "      <td>...</td>\n",
              "      <td>...</td>\n",
              "      <td>...</td>\n",
              "      <td>...</td>\n",
              "      <td>...</td>\n",
              "      <td>...</td>\n",
              "      <td>...</td>\n",
              "      <td>...</td>\n",
              "      <td>...</td>\n",
              "      <td>...</td>\n",
              "      <td>...</td>\n",
              "      <td>...</td>\n",
              "      <td>...</td>\n",
              "      <td>...</td>\n",
              "      <td>...</td>\n",
              "      <td>...</td>\n",
              "      <td>...</td>\n",
              "      <td>...</td>\n",
              "    </tr>\n",
              "    <tr>\n",
              "      <th>19259</th>\n",
              "      <td>-1.150338</td>\n",
              "      <td>0.828018</td>\n",
              "      <td>0.921358</td>\n",
              "      <td>1.232116</td>\n",
              "      <td>0.377041</td>\n",
              "      <td>0.736010</td>\n",
              "      <td>0.613726</td>\n",
              "      <td>0.814523</td>\n",
              "      <td>0.094870</td>\n",
              "      <td>0.541304</td>\n",
              "      <td>...</td>\n",
              "      <td>-0.309633</td>\n",
              "      <td>-0.474917</td>\n",
              "      <td>0.117628</td>\n",
              "      <td>-0.373732</td>\n",
              "      <td>-0.337631</td>\n",
              "      <td>-0.082331</td>\n",
              "      <td>-0.238662</td>\n",
              "      <td>0.564884</td>\n",
              "      <td>-0.421998</td>\n",
              "      <td>0.169569</td>\n",
              "    </tr>\n",
              "    <tr>\n",
              "      <th>45442</th>\n",
              "      <td>-1.425590</td>\n",
              "      <td>1.414477</td>\n",
              "      <td>0.495156</td>\n",
              "      <td>-0.766097</td>\n",
              "      <td>-0.571850</td>\n",
              "      <td>-0.867868</td>\n",
              "      <td>0.856462</td>\n",
              "      <td>0.130514</td>\n",
              "      <td>1.813980</td>\n",
              "      <td>3.400310</td>\n",
              "      <td>...</td>\n",
              "      <td>1.151005</td>\n",
              "      <td>-0.851489</td>\n",
              "      <td>-0.920378</td>\n",
              "      <td>0.389216</td>\n",
              "      <td>-0.116632</td>\n",
              "      <td>0.365064</td>\n",
              "      <td>0.086173</td>\n",
              "      <td>1.016631</td>\n",
              "      <td>0.858861</td>\n",
              "      <td>0.053527</td>\n",
              "    </tr>\n",
              "    <tr>\n",
              "      <th>46243</th>\n",
              "      <td>-0.854175</td>\n",
              "      <td>0.784449</td>\n",
              "      <td>1.028935</td>\n",
              "      <td>0.809307</td>\n",
              "      <td>0.867901</td>\n",
              "      <td>-0.850419</td>\n",
              "      <td>0.801727</td>\n",
              "      <td>0.464410</td>\n",
              "      <td>-0.737168</td>\n",
              "      <td>-0.006019</td>\n",
              "      <td>...</td>\n",
              "      <td>0.355165</td>\n",
              "      <td>0.508220</td>\n",
              "      <td>0.129160</td>\n",
              "      <td>-0.510101</td>\n",
              "      <td>-0.047288</td>\n",
              "      <td>-0.020648</td>\n",
              "      <td>-0.314638</td>\n",
              "      <td>0.456350</td>\n",
              "      <td>0.501630</td>\n",
              "      <td>0.123517</td>\n",
              "    </tr>\n",
              "    <tr>\n",
              "      <th>34178</th>\n",
              "      <td>-0.837389</td>\n",
              "      <td>1.062717</td>\n",
              "      <td>1.231655</td>\n",
              "      <td>1.000360</td>\n",
              "      <td>0.659354</td>\n",
              "      <td>-0.204508</td>\n",
              "      <td>1.093843</td>\n",
              "      <td>-0.674783</td>\n",
              "      <td>-0.921442</td>\n",
              "      <td>-0.040095</td>\n",
              "      <td>...</td>\n",
              "      <td>0.508843</td>\n",
              "      <td>-0.747697</td>\n",
              "      <td>-1.088387</td>\n",
              "      <td>-0.288840</td>\n",
              "      <td>0.008081</td>\n",
              "      <td>-0.059569</td>\n",
              "      <td>-0.669849</td>\n",
              "      <td>-0.562254</td>\n",
              "      <td>-0.537204</td>\n",
              "      <td>0.169362</td>\n",
              "    </tr>\n",
              "    <tr>\n",
              "      <th>38244</th>\n",
              "      <td>1.101533</td>\n",
              "      <td>-1.110439</td>\n",
              "      <td>0.977172</td>\n",
              "      <td>-1.383369</td>\n",
              "      <td>-1.234830</td>\n",
              "      <td>-0.412618</td>\n",
              "      <td>-1.156276</td>\n",
              "      <td>0.582999</td>\n",
              "      <td>-1.657670</td>\n",
              "      <td>1.558259</td>\n",
              "      <td>...</td>\n",
              "      <td>-0.698484</td>\n",
              "      <td>0.522845</td>\n",
              "      <td>0.746792</td>\n",
              "      <td>-0.313740</td>\n",
              "      <td>0.211616</td>\n",
              "      <td>0.229130</td>\n",
              "      <td>-0.001938</td>\n",
              "      <td>0.391040</td>\n",
              "      <td>0.266433</td>\n",
              "      <td>0.146746</td>\n",
              "    </tr>\n",
              "  </tbody>\n",
              "</table>\n",
              "<p>39688 rows × 29 columns</p>\n",
              "</div>\n",
              "      <button class=\"colab-df-convert\" onclick=\"convertToInteractive('df-b3299372-53d7-4d4b-a98a-a2adcacd403b')\"\n",
              "              title=\"Convert this dataframe to an interactive table.\"\n",
              "              style=\"display:none;\">\n",
              "        \n",
              "  <svg xmlns=\"http://www.w3.org/2000/svg\" height=\"24px\"viewBox=\"0 0 24 24\"\n",
              "       width=\"24px\">\n",
              "    <path d=\"M0 0h24v24H0V0z\" fill=\"none\"/>\n",
              "    <path d=\"M18.56 5.44l.94 2.06.94-2.06 2.06-.94-2.06-.94-.94-2.06-.94 2.06-2.06.94zm-11 1L8.5 8.5l.94-2.06 2.06-.94-2.06-.94L8.5 2.5l-.94 2.06-2.06.94zm10 10l.94 2.06.94-2.06 2.06-.94-2.06-.94-.94-2.06-.94 2.06-2.06.94z\"/><path d=\"M17.41 7.96l-1.37-1.37c-.4-.4-.92-.59-1.43-.59-.52 0-1.04.2-1.43.59L10.3 9.45l-7.72 7.72c-.78.78-.78 2.05 0 2.83L4 21.41c.39.39.9.59 1.41.59.51 0 1.02-.2 1.41-.59l7.78-7.78 2.81-2.81c.8-.78.8-2.07 0-2.86zM5.41 20L4 18.59l7.72-7.72 1.47 1.35L5.41 20z\"/>\n",
              "  </svg>\n",
              "      </button>\n",
              "      \n",
              "  <style>\n",
              "    .colab-df-container {\n",
              "      display:flex;\n",
              "      flex-wrap:wrap;\n",
              "      gap: 12px;\n",
              "    }\n",
              "\n",
              "    .colab-df-convert {\n",
              "      background-color: #E8F0FE;\n",
              "      border: none;\n",
              "      border-radius: 50%;\n",
              "      cursor: pointer;\n",
              "      display: none;\n",
              "      fill: #1967D2;\n",
              "      height: 32px;\n",
              "      padding: 0 0 0 0;\n",
              "      width: 32px;\n",
              "    }\n",
              "\n",
              "    .colab-df-convert:hover {\n",
              "      background-color: #E2EBFA;\n",
              "      box-shadow: 0px 1px 2px rgba(60, 64, 67, 0.3), 0px 1px 3px 1px rgba(60, 64, 67, 0.15);\n",
              "      fill: #174EA6;\n",
              "    }\n",
              "\n",
              "    [theme=dark] .colab-df-convert {\n",
              "      background-color: #3B4455;\n",
              "      fill: #D2E3FC;\n",
              "    }\n",
              "\n",
              "    [theme=dark] .colab-df-convert:hover {\n",
              "      background-color: #434B5C;\n",
              "      box-shadow: 0px 1px 3px 1px rgba(0, 0, 0, 0.15);\n",
              "      filter: drop-shadow(0px 1px 2px rgba(0, 0, 0, 0.3));\n",
              "      fill: #FFFFFF;\n",
              "    }\n",
              "  </style>\n",
              "\n",
              "      <script>\n",
              "        const buttonEl =\n",
              "          document.querySelector('#df-b3299372-53d7-4d4b-a98a-a2adcacd403b button.colab-df-convert');\n",
              "        buttonEl.style.display =\n",
              "          google.colab.kernel.accessAllowed ? 'block' : 'none';\n",
              "\n",
              "        async function convertToInteractive(key) {\n",
              "          const element = document.querySelector('#df-b3299372-53d7-4d4b-a98a-a2adcacd403b');\n",
              "          const dataTable =\n",
              "            await google.colab.kernel.invokeFunction('convertToInteractive',\n",
              "                                                     [key], {});\n",
              "          if (!dataTable) return;\n",
              "\n",
              "          const docLinkHtml = 'Like what you see? Visit the ' +\n",
              "            '<a target=\"_blank\" href=https://colab.research.google.com/notebooks/data_table.ipynb>data table notebook</a>'\n",
              "            + ' to learn more about interactive tables.';\n",
              "          element.innerHTML = '';\n",
              "          dataTable['output_type'] = 'display_data';\n",
              "          await google.colab.output.renderOutput(dataTable, element);\n",
              "          const docLink = document.createElement('div');\n",
              "          docLink.innerHTML = docLinkHtml;\n",
              "          element.appendChild(docLink);\n",
              "        }\n",
              "      </script>\n",
              "    </div>\n",
              "  </div>\n",
              "  "
            ]
          },
          "metadata": {},
          "execution_count": 10
        }
      ]
    },
    {
      "cell_type": "markdown",
      "source": [
        "### **Reseting inf and nan to 0 -**"
      ],
      "metadata": {
        "id": "wmdzyHZYMmZl"
      }
    },
    {
      "cell_type": "code",
      "source": [
        "X_train = X_train.replace((np.inf, -np.inf, np.nan), 0).reset_index(drop=True)\n",
        "y_train = y_train.replace((np.inf, -np.inf, np.nan), 0).reset_index(drop=True)\n",
        "X_test = X_test.replace((np.inf, -np.inf, np.nan), 0).reset_index(drop=True)\n",
        "y_test = y_test.replace((np.inf, -np.inf, np.nan), 0).reset_index(drop=True)"
      ],
      "metadata": {
        "id": "fkpN7l9M2wXb"
      },
      "execution_count": null,
      "outputs": []
    },
    {
      "cell_type": "markdown",
      "source": [
        "# **Model Using Logistic Regression -**"
      ],
      "metadata": {
        "id": "1B_4yOniM_7w"
      }
    },
    {
      "cell_type": "code",
      "source": [
        "from sklearn.linear_model import LogisticRegression\n",
        "model=LogisticRegression()\n",
        "model.fit(X_train,y_train)\n",
        "y_predict=model.predict(X_test)\n",
        "y_predict"
      ],
      "metadata": {
        "colab": {
          "base_uri": "https://localhost:8080/"
        },
        "id": "pafCYtR8cnoS",
        "outputId": "67ef8123-45bb-48b2-c4d9-812aae6918b4"
      },
      "execution_count": null,
      "outputs": [
        {
          "output_type": "execute_result",
          "data": {
            "text/plain": [
              "array([0., 0., 0., ..., 0., 0., 0.])"
            ]
          },
          "metadata": {},
          "execution_count": 12
        }
      ]
    },
    {
      "cell_type": "code",
      "source": [
        "model.score(X_test,y_test)"
      ],
      "metadata": {
        "colab": {
          "base_uri": "https://localhost:8080/"
        },
        "id": "kxyV7IykvYmG",
        "outputId": "d28bfb78-8e6b-4921-d60c-d4fbead29476"
      },
      "execution_count": null,
      "outputs": [
        {
          "output_type": "execute_result",
          "data": {
            "text/plain": [
              "0.9984882080225761"
            ]
          },
          "metadata": {},
          "execution_count": 13
        }
      ]
    },
    {
      "cell_type": "code",
      "source": [
        "from sklearn.metrics import classification_report\n",
        "print(classification_report( y_test,y_predict))"
      ],
      "metadata": {
        "colab": {
          "base_uri": "https://localhost:8080/"
        },
        "id": "j0FHnPNvx4EO",
        "outputId": "372e6054-ff6b-424c-bdd6-a7d886c5145e"
      },
      "execution_count": null,
      "outputs": [
        {
          "output_type": "stream",
          "name": "stdout",
          "text": [
            "              precision    recall  f1-score   support\n",
            "\n",
            "         0.0       1.00      1.00      1.00      9893\n",
            "         1.0       0.82      0.62      0.71        29\n",
            "\n",
            "    accuracy                           1.00      9922\n",
            "   macro avg       0.91      0.81      0.85      9922\n",
            "weighted avg       1.00      1.00      1.00      9922\n",
            "\n"
          ]
        }
      ]
    },
    {
      "cell_type": "markdown",
      "source": [
        "# **Model Using Support Vector Classifier -**"
      ],
      "metadata": {
        "id": "5JyB_P73NKRV"
      }
    },
    {
      "cell_type": "code",
      "source": [
        "from sklearn.svm import SVC\n",
        "m1=SVC()\n",
        "m1.fit(X_train,y_train)\n",
        "y_predict=m1.predict(X_test)\n",
        "y_predict"
      ],
      "metadata": {
        "colab": {
          "base_uri": "https://localhost:8080/"
        },
        "id": "r7cnH4Gh80_R",
        "outputId": "7f99ac2d-5036-499d-979f-5acb354815a6"
      },
      "execution_count": null,
      "outputs": [
        {
          "output_type": "execute_result",
          "data": {
            "text/plain": [
              "array([0., 0., 0., ..., 0., 0., 0.])"
            ]
          },
          "metadata": {},
          "execution_count": 15
        }
      ]
    },
    {
      "cell_type": "code",
      "source": [
        "m1.score(X_test,y_test)"
      ],
      "metadata": {
        "colab": {
          "base_uri": "https://localhost:8080/"
        },
        "id": "kNejE7lT2T_V",
        "outputId": "36d08c7a-6bcd-4dfa-be5d-071924ae444f"
      },
      "execution_count": null,
      "outputs": [
        {
          "output_type": "execute_result",
          "data": {
            "text/plain": [
              "0.9989921386817174"
            ]
          },
          "metadata": {},
          "execution_count": 16
        }
      ]
    },
    {
      "cell_type": "code",
      "source": [
        "from sklearn.metrics import classification_report\n",
        "print(classification_report( y_test,y_predict))"
      ],
      "metadata": {
        "colab": {
          "base_uri": "https://localhost:8080/"
        },
        "id": "ed_EXMhuLg3B",
        "outputId": "a8c6f4c5-1d8f-46f7-a348-c72a26cf3555"
      },
      "execution_count": null,
      "outputs": [
        {
          "output_type": "stream",
          "name": "stdout",
          "text": [
            "              precision    recall  f1-score   support\n",
            "\n",
            "         0.0       1.00      1.00      1.00      9893\n",
            "         1.0       0.91      0.72      0.81        29\n",
            "\n",
            "    accuracy                           1.00      9922\n",
            "   macro avg       0.96      0.86      0.90      9922\n",
            "weighted avg       1.00      1.00      1.00      9922\n",
            "\n"
          ]
        }
      ]
    },
    {
      "cell_type": "markdown",
      "source": [
        "# **Model Using Decision Tree -**"
      ],
      "metadata": {
        "id": "8JD7vSmONfWr"
      }
    },
    {
      "cell_type": "code",
      "source": [
        "from sklearn import tree\n",
        "m2=tree.DecisionTreeClassifier()\n",
        "m2.fit(X_train,y_train)\n",
        "y_predict=m2.predict(X_test)\n",
        "y_predict"
      ],
      "metadata": {
        "colab": {
          "base_uri": "https://localhost:8080/"
        },
        "id": "KRqCtJVA3cpP",
        "outputId": "fa39a4fb-cd4f-4d65-b7c7-4f0254d1c967"
      },
      "execution_count": null,
      "outputs": [
        {
          "output_type": "execute_result",
          "data": {
            "text/plain": [
              "array([0., 0., 0., ..., 0., 0., 0.])"
            ]
          },
          "metadata": {},
          "execution_count": 18
        }
      ]
    },
    {
      "cell_type": "code",
      "source": [
        "m2.score(X_test,y_test)"
      ],
      "metadata": {
        "colab": {
          "base_uri": "https://localhost:8080/"
        },
        "id": "oN_UzueFL69q",
        "outputId": "8de09e4d-313f-421b-8e43-4e3ae178c344"
      },
      "execution_count": null,
      "outputs": [
        {
          "output_type": "execute_result",
          "data": {
            "text/plain": [
              "0.9988913525498891"
            ]
          },
          "metadata": {},
          "execution_count": 19
        }
      ]
    },
    {
      "cell_type": "code",
      "source": [
        "from sklearn.metrics import classification_report\n",
        "print(classification_report( y_test,y_predict))"
      ],
      "metadata": {
        "colab": {
          "base_uri": "https://localhost:8080/"
        },
        "id": "SeDfwIxlMTKU",
        "outputId": "6ad37988-b18f-411c-a42f-efed83b292cf"
      },
      "execution_count": null,
      "outputs": [
        {
          "output_type": "stream",
          "name": "stdout",
          "text": [
            "              precision    recall  f1-score   support\n",
            "\n",
            "         0.0       1.00      1.00      1.00      9893\n",
            "         1.0       0.88      0.72      0.79        29\n",
            "\n",
            "    accuracy                           1.00      9922\n",
            "   macro avg       0.94      0.86      0.90      9922\n",
            "weighted avg       1.00      1.00      1.00      9922\n",
            "\n"
          ]
        }
      ]
    },
    {
      "cell_type": "markdown",
      "source": [
        "# **Model Using Random Forest Classifier -**"
      ],
      "metadata": {
        "id": "jbLW7pJ5Nmha"
      }
    },
    {
      "cell_type": "code",
      "source": [
        "from sklearn.ensemble import RandomForestClassifier\n",
        "m3=RandomForestClassifier()\n",
        "m3.fit(X_train,y_train)\n",
        "y_predict=m3.predict(X_test)\n",
        "y_predict"
      ],
      "metadata": {
        "colab": {
          "base_uri": "https://localhost:8080/"
        },
        "id": "VZQtElk6WGGU",
        "outputId": "948ddf5d-c38b-471f-a8b1-8d522e562b00"
      },
      "execution_count": null,
      "outputs": [
        {
          "output_type": "execute_result",
          "data": {
            "text/plain": [
              "array([0., 0., 0., ..., 0., 0., 0.])"
            ]
          },
          "metadata": {},
          "execution_count": 21
        }
      ]
    },
    {
      "cell_type": "code",
      "source": [
        "m3.score(X_test,y_test)"
      ],
      "metadata": {
        "colab": {
          "base_uri": "https://localhost:8080/"
        },
        "id": "RSdlzLHPXTP3",
        "outputId": "61ddc497-7d5a-4392-de57-555f1467d0b8"
      },
      "execution_count": null,
      "outputs": [
        {
          "output_type": "execute_result",
          "data": {
            "text/plain": [
              "0.9989921386817174"
            ]
          },
          "metadata": {},
          "execution_count": 22
        }
      ]
    },
    {
      "cell_type": "code",
      "source": [
        "from sklearn.metrics import classification_report\n",
        "print(classification_report( y_test,y_predict))"
      ],
      "metadata": {
        "colab": {
          "base_uri": "https://localhost:8080/"
        },
        "id": "PLVVBmAvXcZs",
        "outputId": "01430316-5f6c-48c7-d794-61735ccde217"
      },
      "execution_count": null,
      "outputs": [
        {
          "output_type": "stream",
          "name": "stdout",
          "text": [
            "              precision    recall  f1-score   support\n",
            "\n",
            "         0.0       1.00      1.00      1.00      9893\n",
            "         1.0       0.88      0.76      0.81        29\n",
            "\n",
            "    accuracy                           1.00      9922\n",
            "   macro avg       0.94      0.88      0.91      9922\n",
            "weighted avg       1.00      1.00      1.00      9922\n",
            "\n"
          ]
        }
      ]
    },
    {
      "cell_type": "markdown",
      "source": [
        "# **Model Using XGBoost -**"
      ],
      "metadata": {
        "id": "3d_lQ6MrNupe"
      }
    },
    {
      "cell_type": "code",
      "source": [
        "from xgboost import XGBClassifier\n",
        "m4=XGBClassifier()\n",
        "m4.fit(X_train,y_train)\n",
        "y_predict=m4.predict(X_test)\n",
        "y_predict"
      ],
      "metadata": {
        "colab": {
          "base_uri": "https://localhost:8080/"
        },
        "id": "z8FF7R2DXhz4",
        "outputId": "e76253d7-f9b0-4bb2-8bf9-96dbc5c7c422"
      },
      "execution_count": null,
      "outputs": [
        {
          "output_type": "execute_result",
          "data": {
            "text/plain": [
              "array([0., 0., 0., ..., 0., 0., 0.])"
            ]
          },
          "metadata": {},
          "execution_count": 25
        }
      ]
    },
    {
      "cell_type": "code",
      "source": [
        "m4.score(X_test,y_test)"
      ],
      "metadata": {
        "colab": {
          "base_uri": "https://localhost:8080/"
        },
        "id": "YiO7pYlNY2Sq",
        "outputId": "1b3a93bf-c425-4808-eba9-eecfabdc35c7"
      },
      "execution_count": null,
      "outputs": [
        {
          "output_type": "execute_result",
          "data": {
            "text/plain": [
              "0.9989921386817174"
            ]
          },
          "metadata": {},
          "execution_count": 27
        }
      ]
    },
    {
      "cell_type": "code",
      "source": [
        "from sklearn.metrics import classification_report\n",
        "print(classification_report( y_test,y_predict))"
      ],
      "metadata": {
        "colab": {
          "base_uri": "https://localhost:8080/"
        },
        "id": "8MpEWajfY78H",
        "outputId": "9b09bcf5-7747-4e92-c421-9e154c6fc05f"
      },
      "execution_count": null,
      "outputs": [
        {
          "output_type": "stream",
          "name": "stdout",
          "text": [
            "              precision    recall  f1-score   support\n",
            "\n",
            "         0.0       1.00      1.00      1.00      9893\n",
            "         1.0       0.88      0.76      0.81        29\n",
            "\n",
            "    accuracy                           1.00      9922\n",
            "   macro avg       0.94      0.88      0.91      9922\n",
            "weighted avg       1.00      1.00      1.00      9922\n",
            "\n"
          ]
        }
      ]
    },
    {
      "cell_type": "markdown",
      "source": [
        "## **Use of SMOTE-**\n",
        " Synthetic Minority Oversampling Technique"
      ],
      "metadata": {
        "id": "2wbG5yBZMNub"
      }
    },
    {
      "cell_type": "code",
      "source": [
        "from imblearn.over_sampling import SMOTE\n",
        "X_resampled, y_resampled = SMOTE().fit_resample(X_train,y_train)\n"
      ],
      "metadata": {
        "id": "qenmQlLflnkw"
      },
      "execution_count": null,
      "outputs": []
    },
    {
      "cell_type": "code",
      "source": [
        "m_smote = LogisticRegression()\n",
        "m_smote.fit(X_resampled, y_resampled)\n",
        "y_predict_smote=m_smote.predict(X_test)\n",
        "y_predict_smote"
      ],
      "metadata": {
        "colab": {
          "base_uri": "https://localhost:8080/"
        },
        "id": "sWZNoOoQlyoG",
        "outputId": "b0c86f38-6841-4ce6-ae01-94cac279fbe1"
      },
      "execution_count": null,
      "outputs": [
        {
          "output_type": "execute_result",
          "data": {
            "text/plain": [
              "array([0., 0., 0., ..., 0., 0., 0.])"
            ]
          },
          "metadata": {},
          "execution_count": 38
        }
      ]
    },
    {
      "cell_type": "code",
      "source": [
        "m_smote.score(X_test,y_test)"
      ],
      "metadata": {
        "colab": {
          "base_uri": "https://localhost:8080/"
        },
        "id": "TJvInnv8mLqJ",
        "outputId": "16a12d7e-95ab-49e1-e847-fafcf318b7ae"
      },
      "execution_count": null,
      "outputs": [
        {
          "output_type": "execute_result",
          "data": {
            "text/plain": [
              "0.991130820399113"
            ]
          },
          "metadata": {},
          "execution_count": 39
        }
      ]
    },
    {
      "cell_type": "code",
      "source": [
        "from sklearn.metrics import classification_report\n",
        "print(classification_report( y_test,y_predict_smote))"
      ],
      "metadata": {
        "colab": {
          "base_uri": "https://localhost:8080/"
        },
        "id": "C20uSHW_mTnX",
        "outputId": "0e869d2a-2844-4e54-8eb1-322f8e4843e7"
      },
      "execution_count": null,
      "outputs": [
        {
          "output_type": "stream",
          "name": "stdout",
          "text": [
            "              precision    recall  f1-score   support\n",
            "\n",
            "         0.0       1.00      0.99      1.00      9893\n",
            "         1.0       0.23      0.86      0.36        29\n",
            "\n",
            "    accuracy                           0.99      9922\n",
            "   macro avg       0.61      0.93      0.68      9922\n",
            "weighted avg       1.00      0.99      0.99      9922\n",
            "\n"
          ]
        }
      ]
    }
  ]
}